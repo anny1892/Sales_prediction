{
  "cells": [
    {
      "cell_type": "markdown",
      "metadata": {
        "id": "view-in-github",
        "colab_type": "text"
      },
      "source": [
        "<a href=\"https://colab.research.google.com/github/anny1892/Sales_prediction/blob/main/Sales_prediction.ipynb\" target=\"_parent\"><img src=\"https://colab.research.google.com/assets/colab-badge.svg\" alt=\"Open In Colab\"/></a>"
      ]
    },
    {
      "cell_type": "code",
      "execution_count": 1,
      "id": "fc1935d1",
      "metadata": {
        "id": "fc1935d1"
      },
      "outputs": [],
      "source": [
        "import numpy as np\n",
        "import pandas as pd\n",
        "\n",
        "from sklearn.linear_model import LinearRegression\n",
        "from sklearn.neighbors import KNeighborsRegressor\n",
        "from sklearn.tree import DecisionTreeRegressor\n",
        "from sklearn.ensemble import RandomForestRegressor\n",
        "\n",
        "from sklearn.model_selection import train_test_split,GridSearchCV,RandomizedSearchCV\n",
        "from sklearn.metrics import mean_squared_error,mean_absolute_error,r2_score\n",
        "from sklearn.preprocessing import OneHotEncoder,LabelEncoder,MinMaxScaler,StandardScaler\n",
        "\n",
        "import matplotlib.pyplot as plt\n",
        "import seaborn as sns"
      ]
    },
    {
      "cell_type": "code",
      "source": [
        "from google.colab import files\n",
        "uploaded=files.upload()"
      ],
      "metadata": {
        "colab": {
          "base_uri": "https://localhost:8080/",
          "height": 73
        },
        "id": "XCHD2ZED07lk",
        "outputId": "6174ea45-242f-4c3f-8e13-c5338bb232e5"
      },
      "id": "XCHD2ZED07lk",
      "execution_count": 2,
      "outputs": [
        {
          "output_type": "display_data",
          "data": {
            "text/plain": [
              "<IPython.core.display.HTML object>"
            ],
            "text/html": [
              "\n",
              "     <input type=\"file\" id=\"files-72ce5275-16f0-4df4-a09c-7cc8d22b27db\" name=\"files[]\" multiple disabled\n",
              "        style=\"border:none\" />\n",
              "     <output id=\"result-72ce5275-16f0-4df4-a09c-7cc8d22b27db\">\n",
              "      Upload widget is only available when the cell has been executed in the\n",
              "      current browser session. Please rerun this cell to enable.\n",
              "      </output>\n",
              "      <script>// Copyright 2017 Google LLC\n",
              "//\n",
              "// Licensed under the Apache License, Version 2.0 (the \"License\");\n",
              "// you may not use this file except in compliance with the License.\n",
              "// You may obtain a copy of the License at\n",
              "//\n",
              "//      http://www.apache.org/licenses/LICENSE-2.0\n",
              "//\n",
              "// Unless required by applicable law or agreed to in writing, software\n",
              "// distributed under the License is distributed on an \"AS IS\" BASIS,\n",
              "// WITHOUT WARRANTIES OR CONDITIONS OF ANY KIND, either express or implied.\n",
              "// See the License for the specific language governing permissions and\n",
              "// limitations under the License.\n",
              "\n",
              "/**\n",
              " * @fileoverview Helpers for google.colab Python module.\n",
              " */\n",
              "(function(scope) {\n",
              "function span(text, styleAttributes = {}) {\n",
              "  const element = document.createElement('span');\n",
              "  element.textContent = text;\n",
              "  for (const key of Object.keys(styleAttributes)) {\n",
              "    element.style[key] = styleAttributes[key];\n",
              "  }\n",
              "  return element;\n",
              "}\n",
              "\n",
              "// Max number of bytes which will be uploaded at a time.\n",
              "const MAX_PAYLOAD_SIZE = 100 * 1024;\n",
              "\n",
              "function _uploadFiles(inputId, outputId) {\n",
              "  const steps = uploadFilesStep(inputId, outputId);\n",
              "  const outputElement = document.getElementById(outputId);\n",
              "  // Cache steps on the outputElement to make it available for the next call\n",
              "  // to uploadFilesContinue from Python.\n",
              "  outputElement.steps = steps;\n",
              "\n",
              "  return _uploadFilesContinue(outputId);\n",
              "}\n",
              "\n",
              "// This is roughly an async generator (not supported in the browser yet),\n",
              "// where there are multiple asynchronous steps and the Python side is going\n",
              "// to poll for completion of each step.\n",
              "// This uses a Promise to block the python side on completion of each step,\n",
              "// then passes the result of the previous step as the input to the next step.\n",
              "function _uploadFilesContinue(outputId) {\n",
              "  const outputElement = document.getElementById(outputId);\n",
              "  const steps = outputElement.steps;\n",
              "\n",
              "  const next = steps.next(outputElement.lastPromiseValue);\n",
              "  return Promise.resolve(next.value.promise).then((value) => {\n",
              "    // Cache the last promise value to make it available to the next\n",
              "    // step of the generator.\n",
              "    outputElement.lastPromiseValue = value;\n",
              "    return next.value.response;\n",
              "  });\n",
              "}\n",
              "\n",
              "/**\n",
              " * Generator function which is called between each async step of the upload\n",
              " * process.\n",
              " * @param {string} inputId Element ID of the input file picker element.\n",
              " * @param {string} outputId Element ID of the output display.\n",
              " * @return {!Iterable<!Object>} Iterable of next steps.\n",
              " */\n",
              "function* uploadFilesStep(inputId, outputId) {\n",
              "  const inputElement = document.getElementById(inputId);\n",
              "  inputElement.disabled = false;\n",
              "\n",
              "  const outputElement = document.getElementById(outputId);\n",
              "  outputElement.innerHTML = '';\n",
              "\n",
              "  const pickedPromise = new Promise((resolve) => {\n",
              "    inputElement.addEventListener('change', (e) => {\n",
              "      resolve(e.target.files);\n",
              "    });\n",
              "  });\n",
              "\n",
              "  const cancel = document.createElement('button');\n",
              "  inputElement.parentElement.appendChild(cancel);\n",
              "  cancel.textContent = 'Cancel upload';\n",
              "  const cancelPromise = new Promise((resolve) => {\n",
              "    cancel.onclick = () => {\n",
              "      resolve(null);\n",
              "    };\n",
              "  });\n",
              "\n",
              "  // Wait for the user to pick the files.\n",
              "  const files = yield {\n",
              "    promise: Promise.race([pickedPromise, cancelPromise]),\n",
              "    response: {\n",
              "      action: 'starting',\n",
              "    }\n",
              "  };\n",
              "\n",
              "  cancel.remove();\n",
              "\n",
              "  // Disable the input element since further picks are not allowed.\n",
              "  inputElement.disabled = true;\n",
              "\n",
              "  if (!files) {\n",
              "    return {\n",
              "      response: {\n",
              "        action: 'complete',\n",
              "      }\n",
              "    };\n",
              "  }\n",
              "\n",
              "  for (const file of files) {\n",
              "    const li = document.createElement('li');\n",
              "    li.append(span(file.name, {fontWeight: 'bold'}));\n",
              "    li.append(span(\n",
              "        `(${file.type || 'n/a'}) - ${file.size} bytes, ` +\n",
              "        `last modified: ${\n",
              "            file.lastModifiedDate ? file.lastModifiedDate.toLocaleDateString() :\n",
              "                                    'n/a'} - `));\n",
              "    const percent = span('0% done');\n",
              "    li.appendChild(percent);\n",
              "\n",
              "    outputElement.appendChild(li);\n",
              "\n",
              "    const fileDataPromise = new Promise((resolve) => {\n",
              "      const reader = new FileReader();\n",
              "      reader.onload = (e) => {\n",
              "        resolve(e.target.result);\n",
              "      };\n",
              "      reader.readAsArrayBuffer(file);\n",
              "    });\n",
              "    // Wait for the data to be ready.\n",
              "    let fileData = yield {\n",
              "      promise: fileDataPromise,\n",
              "      response: {\n",
              "        action: 'continue',\n",
              "      }\n",
              "    };\n",
              "\n",
              "    // Use a chunked sending to avoid message size limits. See b/62115660.\n",
              "    let position = 0;\n",
              "    do {\n",
              "      const length = Math.min(fileData.byteLength - position, MAX_PAYLOAD_SIZE);\n",
              "      const chunk = new Uint8Array(fileData, position, length);\n",
              "      position += length;\n",
              "\n",
              "      const base64 = btoa(String.fromCharCode.apply(null, chunk));\n",
              "      yield {\n",
              "        response: {\n",
              "          action: 'append',\n",
              "          file: file.name,\n",
              "          data: base64,\n",
              "        },\n",
              "      };\n",
              "\n",
              "      let percentDone = fileData.byteLength === 0 ?\n",
              "          100 :\n",
              "          Math.round((position / fileData.byteLength) * 100);\n",
              "      percent.textContent = `${percentDone}% done`;\n",
              "\n",
              "    } while (position < fileData.byteLength);\n",
              "  }\n",
              "\n",
              "  // All done.\n",
              "  yield {\n",
              "    response: {\n",
              "      action: 'complete',\n",
              "    }\n",
              "  };\n",
              "}\n",
              "\n",
              "scope.google = scope.google || {};\n",
              "scope.google.colab = scope.google.colab || {};\n",
              "scope.google.colab._files = {\n",
              "  _uploadFiles,\n",
              "  _uploadFilesContinue,\n",
              "};\n",
              "})(self);\n",
              "</script> "
            ]
          },
          "metadata": {}
        },
        {
          "output_type": "stream",
          "name": "stdout",
          "text": [
            "Saving Train.csv to Train.csv\n"
          ]
        }
      ]
    },
    {
      "cell_type": "code",
      "execution_count": 3,
      "id": "7043a949",
      "metadata": {
        "colab": {
          "base_uri": "https://localhost:8080/",
          "height": 661
        },
        "id": "7043a949",
        "outputId": "95ee8a39-a0e9-4e36-cd2b-ccca68170a3f"
      },
      "outputs": [
        {
          "output_type": "execute_result",
          "data": {
            "text/plain": [
              "     Item_Identifier  Item_Weight Item_Fat_Content  Item_Visibility  \\\n",
              "0              FDA15        9.300          Low Fat         0.016047   \n",
              "1              DRC01        5.920          Regular         0.019278   \n",
              "2              FDN15       17.500          Low Fat         0.016760   \n",
              "3              FDX07       19.200          Regular         0.000000   \n",
              "4              NCD19        8.930          Low Fat         0.000000   \n",
              "...              ...          ...              ...              ...   \n",
              "8518           FDF22        6.865          Low Fat         0.056783   \n",
              "8519           FDS36        8.380          Regular         0.046982   \n",
              "8520           NCJ29       10.600          Low Fat         0.035186   \n",
              "8521           FDN46        7.210          Regular         0.145221   \n",
              "8522           DRG01       14.800          Low Fat         0.044878   \n",
              "\n",
              "                  Item_Type  Item_MRP Outlet_Identifier  \\\n",
              "0                     Dairy  249.8092            OUT049   \n",
              "1               Soft Drinks   48.2692            OUT018   \n",
              "2                      Meat  141.6180            OUT049   \n",
              "3     Fruits and Vegetables  182.0950            OUT010   \n",
              "4                 Household   53.8614            OUT013   \n",
              "...                     ...       ...               ...   \n",
              "8518            Snack Foods  214.5218            OUT013   \n",
              "8519           Baking Goods  108.1570            OUT045   \n",
              "8520     Health and Hygiene   85.1224            OUT035   \n",
              "8521            Snack Foods  103.1332            OUT018   \n",
              "8522            Soft Drinks   75.4670            OUT046   \n",
              "\n",
              "      Outlet_Establishment_Year Outlet_Size Outlet_Location_Type  \\\n",
              "0                          1999      Medium               Tier 1   \n",
              "1                          2009      Medium               Tier 3   \n",
              "2                          1999      Medium               Tier 1   \n",
              "3                          1998         NaN               Tier 3   \n",
              "4                          1987        High               Tier 3   \n",
              "...                         ...         ...                  ...   \n",
              "8518                       1987        High               Tier 3   \n",
              "8519                       2002         NaN               Tier 2   \n",
              "8520                       2004       Small               Tier 2   \n",
              "8521                       2009      Medium               Tier 3   \n",
              "8522                       1997       Small               Tier 1   \n",
              "\n",
              "            Outlet_Type  Item_Outlet_Sales  \n",
              "0     Supermarket Type1          3735.1380  \n",
              "1     Supermarket Type2           443.4228  \n",
              "2     Supermarket Type1          2097.2700  \n",
              "3         Grocery Store           732.3800  \n",
              "4     Supermarket Type1           994.7052  \n",
              "...                 ...                ...  \n",
              "8518  Supermarket Type1          2778.3834  \n",
              "8519  Supermarket Type1           549.2850  \n",
              "8520  Supermarket Type1          1193.1136  \n",
              "8521  Supermarket Type2          1845.5976  \n",
              "8522  Supermarket Type1           765.6700  \n",
              "\n",
              "[8523 rows x 12 columns]"
            ],
            "text/html": [
              "\n",
              "  <div id=\"df-1bec51dc-f5fc-44d4-b944-58c9f807b041\">\n",
              "    <div class=\"colab-df-container\">\n",
              "      <div>\n",
              "<style scoped>\n",
              "    .dataframe tbody tr th:only-of-type {\n",
              "        vertical-align: middle;\n",
              "    }\n",
              "\n",
              "    .dataframe tbody tr th {\n",
              "        vertical-align: top;\n",
              "    }\n",
              "\n",
              "    .dataframe thead th {\n",
              "        text-align: right;\n",
              "    }\n",
              "</style>\n",
              "<table border=\"1\" class=\"dataframe\">\n",
              "  <thead>\n",
              "    <tr style=\"text-align: right;\">\n",
              "      <th></th>\n",
              "      <th>Item_Identifier</th>\n",
              "      <th>Item_Weight</th>\n",
              "      <th>Item_Fat_Content</th>\n",
              "      <th>Item_Visibility</th>\n",
              "      <th>Item_Type</th>\n",
              "      <th>Item_MRP</th>\n",
              "      <th>Outlet_Identifier</th>\n",
              "      <th>Outlet_Establishment_Year</th>\n",
              "      <th>Outlet_Size</th>\n",
              "      <th>Outlet_Location_Type</th>\n",
              "      <th>Outlet_Type</th>\n",
              "      <th>Item_Outlet_Sales</th>\n",
              "    </tr>\n",
              "  </thead>\n",
              "  <tbody>\n",
              "    <tr>\n",
              "      <th>0</th>\n",
              "      <td>FDA15</td>\n",
              "      <td>9.300</td>\n",
              "      <td>Low Fat</td>\n",
              "      <td>0.016047</td>\n",
              "      <td>Dairy</td>\n",
              "      <td>249.8092</td>\n",
              "      <td>OUT049</td>\n",
              "      <td>1999</td>\n",
              "      <td>Medium</td>\n",
              "      <td>Tier 1</td>\n",
              "      <td>Supermarket Type1</td>\n",
              "      <td>3735.1380</td>\n",
              "    </tr>\n",
              "    <tr>\n",
              "      <th>1</th>\n",
              "      <td>DRC01</td>\n",
              "      <td>5.920</td>\n",
              "      <td>Regular</td>\n",
              "      <td>0.019278</td>\n",
              "      <td>Soft Drinks</td>\n",
              "      <td>48.2692</td>\n",
              "      <td>OUT018</td>\n",
              "      <td>2009</td>\n",
              "      <td>Medium</td>\n",
              "      <td>Tier 3</td>\n",
              "      <td>Supermarket Type2</td>\n",
              "      <td>443.4228</td>\n",
              "    </tr>\n",
              "    <tr>\n",
              "      <th>2</th>\n",
              "      <td>FDN15</td>\n",
              "      <td>17.500</td>\n",
              "      <td>Low Fat</td>\n",
              "      <td>0.016760</td>\n",
              "      <td>Meat</td>\n",
              "      <td>141.6180</td>\n",
              "      <td>OUT049</td>\n",
              "      <td>1999</td>\n",
              "      <td>Medium</td>\n",
              "      <td>Tier 1</td>\n",
              "      <td>Supermarket Type1</td>\n",
              "      <td>2097.2700</td>\n",
              "    </tr>\n",
              "    <tr>\n",
              "      <th>3</th>\n",
              "      <td>FDX07</td>\n",
              "      <td>19.200</td>\n",
              "      <td>Regular</td>\n",
              "      <td>0.000000</td>\n",
              "      <td>Fruits and Vegetables</td>\n",
              "      <td>182.0950</td>\n",
              "      <td>OUT010</td>\n",
              "      <td>1998</td>\n",
              "      <td>NaN</td>\n",
              "      <td>Tier 3</td>\n",
              "      <td>Grocery Store</td>\n",
              "      <td>732.3800</td>\n",
              "    </tr>\n",
              "    <tr>\n",
              "      <th>4</th>\n",
              "      <td>NCD19</td>\n",
              "      <td>8.930</td>\n",
              "      <td>Low Fat</td>\n",
              "      <td>0.000000</td>\n",
              "      <td>Household</td>\n",
              "      <td>53.8614</td>\n",
              "      <td>OUT013</td>\n",
              "      <td>1987</td>\n",
              "      <td>High</td>\n",
              "      <td>Tier 3</td>\n",
              "      <td>Supermarket Type1</td>\n",
              "      <td>994.7052</td>\n",
              "    </tr>\n",
              "    <tr>\n",
              "      <th>...</th>\n",
              "      <td>...</td>\n",
              "      <td>...</td>\n",
              "      <td>...</td>\n",
              "      <td>...</td>\n",
              "      <td>...</td>\n",
              "      <td>...</td>\n",
              "      <td>...</td>\n",
              "      <td>...</td>\n",
              "      <td>...</td>\n",
              "      <td>...</td>\n",
              "      <td>...</td>\n",
              "      <td>...</td>\n",
              "    </tr>\n",
              "    <tr>\n",
              "      <th>8518</th>\n",
              "      <td>FDF22</td>\n",
              "      <td>6.865</td>\n",
              "      <td>Low Fat</td>\n",
              "      <td>0.056783</td>\n",
              "      <td>Snack Foods</td>\n",
              "      <td>214.5218</td>\n",
              "      <td>OUT013</td>\n",
              "      <td>1987</td>\n",
              "      <td>High</td>\n",
              "      <td>Tier 3</td>\n",
              "      <td>Supermarket Type1</td>\n",
              "      <td>2778.3834</td>\n",
              "    </tr>\n",
              "    <tr>\n",
              "      <th>8519</th>\n",
              "      <td>FDS36</td>\n",
              "      <td>8.380</td>\n",
              "      <td>Regular</td>\n",
              "      <td>0.046982</td>\n",
              "      <td>Baking Goods</td>\n",
              "      <td>108.1570</td>\n",
              "      <td>OUT045</td>\n",
              "      <td>2002</td>\n",
              "      <td>NaN</td>\n",
              "      <td>Tier 2</td>\n",
              "      <td>Supermarket Type1</td>\n",
              "      <td>549.2850</td>\n",
              "    </tr>\n",
              "    <tr>\n",
              "      <th>8520</th>\n",
              "      <td>NCJ29</td>\n",
              "      <td>10.600</td>\n",
              "      <td>Low Fat</td>\n",
              "      <td>0.035186</td>\n",
              "      <td>Health and Hygiene</td>\n",
              "      <td>85.1224</td>\n",
              "      <td>OUT035</td>\n",
              "      <td>2004</td>\n",
              "      <td>Small</td>\n",
              "      <td>Tier 2</td>\n",
              "      <td>Supermarket Type1</td>\n",
              "      <td>1193.1136</td>\n",
              "    </tr>\n",
              "    <tr>\n",
              "      <th>8521</th>\n",
              "      <td>FDN46</td>\n",
              "      <td>7.210</td>\n",
              "      <td>Regular</td>\n",
              "      <td>0.145221</td>\n",
              "      <td>Snack Foods</td>\n",
              "      <td>103.1332</td>\n",
              "      <td>OUT018</td>\n",
              "      <td>2009</td>\n",
              "      <td>Medium</td>\n",
              "      <td>Tier 3</td>\n",
              "      <td>Supermarket Type2</td>\n",
              "      <td>1845.5976</td>\n",
              "    </tr>\n",
              "    <tr>\n",
              "      <th>8522</th>\n",
              "      <td>DRG01</td>\n",
              "      <td>14.800</td>\n",
              "      <td>Low Fat</td>\n",
              "      <td>0.044878</td>\n",
              "      <td>Soft Drinks</td>\n",
              "      <td>75.4670</td>\n",
              "      <td>OUT046</td>\n",
              "      <td>1997</td>\n",
              "      <td>Small</td>\n",
              "      <td>Tier 1</td>\n",
              "      <td>Supermarket Type1</td>\n",
              "      <td>765.6700</td>\n",
              "    </tr>\n",
              "  </tbody>\n",
              "</table>\n",
              "<p>8523 rows × 12 columns</p>\n",
              "</div>\n",
              "      <button class=\"colab-df-convert\" onclick=\"convertToInteractive('df-1bec51dc-f5fc-44d4-b944-58c9f807b041')\"\n",
              "              title=\"Convert this dataframe to an interactive table.\"\n",
              "              style=\"display:none;\">\n",
              "        \n",
              "  <svg xmlns=\"http://www.w3.org/2000/svg\" height=\"24px\"viewBox=\"0 0 24 24\"\n",
              "       width=\"24px\">\n",
              "    <path d=\"M0 0h24v24H0V0z\" fill=\"none\"/>\n",
              "    <path d=\"M18.56 5.44l.94 2.06.94-2.06 2.06-.94-2.06-.94-.94-2.06-.94 2.06-2.06.94zm-11 1L8.5 8.5l.94-2.06 2.06-.94-2.06-.94L8.5 2.5l-.94 2.06-2.06.94zm10 10l.94 2.06.94-2.06 2.06-.94-2.06-.94-.94-2.06-.94 2.06-2.06.94z\"/><path d=\"M17.41 7.96l-1.37-1.37c-.4-.4-.92-.59-1.43-.59-.52 0-1.04.2-1.43.59L10.3 9.45l-7.72 7.72c-.78.78-.78 2.05 0 2.83L4 21.41c.39.39.9.59 1.41.59.51 0 1.02-.2 1.41-.59l7.78-7.78 2.81-2.81c.8-.78.8-2.07 0-2.86zM5.41 20L4 18.59l7.72-7.72 1.47 1.35L5.41 20z\"/>\n",
              "  </svg>\n",
              "      </button>\n",
              "      \n",
              "  <style>\n",
              "    .colab-df-container {\n",
              "      display:flex;\n",
              "      flex-wrap:wrap;\n",
              "      gap: 12px;\n",
              "    }\n",
              "\n",
              "    .colab-df-convert {\n",
              "      background-color: #E8F0FE;\n",
              "      border: none;\n",
              "      border-radius: 50%;\n",
              "      cursor: pointer;\n",
              "      display: none;\n",
              "      fill: #1967D2;\n",
              "      height: 32px;\n",
              "      padding: 0 0 0 0;\n",
              "      width: 32px;\n",
              "    }\n",
              "\n",
              "    .colab-df-convert:hover {\n",
              "      background-color: #E2EBFA;\n",
              "      box-shadow: 0px 1px 2px rgba(60, 64, 67, 0.3), 0px 1px 3px 1px rgba(60, 64, 67, 0.15);\n",
              "      fill: #174EA6;\n",
              "    }\n",
              "\n",
              "    [theme=dark] .colab-df-convert {\n",
              "      background-color: #3B4455;\n",
              "      fill: #D2E3FC;\n",
              "    }\n",
              "\n",
              "    [theme=dark] .colab-df-convert:hover {\n",
              "      background-color: #434B5C;\n",
              "      box-shadow: 0px 1px 3px 1px rgba(0, 0, 0, 0.15);\n",
              "      filter: drop-shadow(0px 1px 2px rgba(0, 0, 0, 0.3));\n",
              "      fill: #FFFFFF;\n",
              "    }\n",
              "  </style>\n",
              "\n",
              "      <script>\n",
              "        const buttonEl =\n",
              "          document.querySelector('#df-1bec51dc-f5fc-44d4-b944-58c9f807b041 button.colab-df-convert');\n",
              "        buttonEl.style.display =\n",
              "          google.colab.kernel.accessAllowed ? 'block' : 'none';\n",
              "\n",
              "        async function convertToInteractive(key) {\n",
              "          const element = document.querySelector('#df-1bec51dc-f5fc-44d4-b944-58c9f807b041');\n",
              "          const dataTable =\n",
              "            await google.colab.kernel.invokeFunction('convertToInteractive',\n",
              "                                                     [key], {});\n",
              "          if (!dataTable) return;\n",
              "\n",
              "          const docLinkHtml = 'Like what you see? Visit the ' +\n",
              "            '<a target=\"_blank\" href=https://colab.research.google.com/notebooks/data_table.ipynb>data table notebook</a>'\n",
              "            + ' to learn more about interactive tables.';\n",
              "          element.innerHTML = '';\n",
              "          dataTable['output_type'] = 'display_data';\n",
              "          await google.colab.output.renderOutput(dataTable, element);\n",
              "          const docLink = document.createElement('div');\n",
              "          docLink.innerHTML = docLinkHtml;\n",
              "          element.appendChild(docLink);\n",
              "        }\n",
              "      </script>\n",
              "    </div>\n",
              "  </div>\n",
              "  "
            ]
          },
          "metadata": {},
          "execution_count": 3
        }
      ],
      "source": [
        "df=pd.read_csv('Train.csv')\n",
        "df"
      ]
    },
    {
      "cell_type": "code",
      "execution_count": 4,
      "id": "0f09a0dd",
      "metadata": {
        "colab": {
          "base_uri": "https://localhost:8080/"
        },
        "id": "0f09a0dd",
        "outputId": "d6357917-97cf-4290-e10d-2a129594885e"
      },
      "outputs": [
        {
          "output_type": "stream",
          "name": "stdout",
          "text": [
            "<class 'pandas.core.frame.DataFrame'>\n",
            "RangeIndex: 8523 entries, 0 to 8522\n",
            "Data columns (total 12 columns):\n",
            " #   Column                     Non-Null Count  Dtype  \n",
            "---  ------                     --------------  -----  \n",
            " 0   Item_Identifier            8523 non-null   object \n",
            " 1   Item_Weight                7060 non-null   float64\n",
            " 2   Item_Fat_Content           8523 non-null   object \n",
            " 3   Item_Visibility            8523 non-null   float64\n",
            " 4   Item_Type                  8523 non-null   object \n",
            " 5   Item_MRP                   8523 non-null   float64\n",
            " 6   Outlet_Identifier          8523 non-null   object \n",
            " 7   Outlet_Establishment_Year  8523 non-null   int64  \n",
            " 8   Outlet_Size                6113 non-null   object \n",
            " 9   Outlet_Location_Type       8523 non-null   object \n",
            " 10  Outlet_Type                8523 non-null   object \n",
            " 11  Item_Outlet_Sales          8523 non-null   float64\n",
            "dtypes: float64(4), int64(1), object(7)\n",
            "memory usage: 799.2+ KB\n"
          ]
        }
      ],
      "source": [
        "df.info()"
      ]
    },
    {
      "cell_type": "code",
      "execution_count": 5,
      "id": "dce5fe24",
      "metadata": {
        "colab": {
          "base_uri": "https://localhost:8080/"
        },
        "id": "dce5fe24",
        "outputId": "094cd30a-ac1e-4769-d10e-7f92ee3e0388"
      },
      "outputs": [
        {
          "output_type": "execute_result",
          "data": {
            "text/plain": [
              "Item_Identifier                 0\n",
              "Item_Weight                  1463\n",
              "Item_Fat_Content                0\n",
              "Item_Visibility                 0\n",
              "Item_Type                       0\n",
              "Item_MRP                        0\n",
              "Outlet_Identifier               0\n",
              "Outlet_Establishment_Year       0\n",
              "Outlet_Size                  2410\n",
              "Outlet_Location_Type            0\n",
              "Outlet_Type                     0\n",
              "Item_Outlet_Sales               0\n",
              "dtype: int64"
            ]
          },
          "metadata": {},
          "execution_count": 5
        }
      ],
      "source": [
        "df.isna().sum()"
      ]
    },
    {
      "cell_type": "code",
      "execution_count": 6,
      "id": "dc144d51",
      "metadata": {
        "colab": {
          "base_uri": "https://localhost:8080/"
        },
        "id": "dc144d51",
        "outputId": "b6167e8f-4c99-4710-c4bc-b0d61035edf3"
      },
      "outputs": [
        {
          "output_type": "execute_result",
          "data": {
            "text/plain": [
              "12.857645184135976"
            ]
          },
          "metadata": {},
          "execution_count": 6
        }
      ],
      "source": [
        "df.Item_Weight.mean()"
      ]
    },
    {
      "cell_type": "code",
      "execution_count": 7,
      "id": "a99bc86b",
      "metadata": {
        "id": "a99bc86b"
      },
      "outputs": [],
      "source": [
        "df.Item_Weight=df.Item_Weight.fillna(df.Item_Weight.mean())"
      ]
    },
    {
      "cell_type": "code",
      "execution_count": 8,
      "id": "fe6b5bd5",
      "metadata": {
        "colab": {
          "base_uri": "https://localhost:8080/"
        },
        "id": "fe6b5bd5",
        "outputId": "f847db30-c87f-464d-b0d8-1c6f216c04a9"
      },
      "outputs": [
        {
          "output_type": "execute_result",
          "data": {
            "text/plain": [
              "0"
            ]
          },
          "metadata": {},
          "execution_count": 8
        }
      ],
      "source": [
        "df.Item_Weight.isna().sum()"
      ]
    },
    {
      "cell_type": "code",
      "execution_count": 9,
      "id": "71ee3d02",
      "metadata": {
        "colab": {
          "base_uri": "https://localhost:8080/"
        },
        "id": "71ee3d02",
        "outputId": "a8f455c4-66ee-4a7b-f381-e1a9b0120b55"
      },
      "outputs": [
        {
          "output_type": "execute_result",
          "data": {
            "text/plain": [
              "0        9.300\n",
              "1        5.920\n",
              "2       17.500\n",
              "3       19.200\n",
              "4        8.930\n",
              "         ...  \n",
              "8518     6.865\n",
              "8519     8.380\n",
              "8520    10.600\n",
              "8521     7.210\n",
              "8522    14.800\n",
              "Name: Item_Weight, Length: 8523, dtype: float64"
            ]
          },
          "metadata": {},
          "execution_count": 9
        }
      ],
      "source": [
        "df.Item_Weight"
      ]
    },
    {
      "cell_type": "code",
      "execution_count": 10,
      "id": "ed222f5d",
      "metadata": {
        "colab": {
          "base_uri": "https://localhost:8080/"
        },
        "id": "ed222f5d",
        "outputId": "ba3ba815-4b24-468c-ae49-c8baafba005d"
      },
      "outputs": [
        {
          "output_type": "execute_result",
          "data": {
            "text/plain": [
              "Medium    2793\n",
              "Small     2388\n",
              "High       932\n",
              "Name: Outlet_Size, dtype: int64"
            ]
          },
          "metadata": {},
          "execution_count": 10
        }
      ],
      "source": [
        "df.Outlet_Size.value_counts()"
      ]
    },
    {
      "cell_type": "code",
      "execution_count": 11,
      "id": "eb309bd2",
      "metadata": {
        "colab": {
          "base_uri": "https://localhost:8080/"
        },
        "id": "eb309bd2",
        "outputId": "602c332f-c528-41fb-ffe4-217a7bfd2b59"
      },
      "outputs": [
        {
          "output_type": "execute_result",
          "data": {
            "text/plain": [
              "0    Medium\n",
              "dtype: object"
            ]
          },
          "metadata": {},
          "execution_count": 11
        }
      ],
      "source": [
        "df.Outlet_Size.mode()"
      ]
    },
    {
      "cell_type": "code",
      "execution_count": 12,
      "id": "2aadb2e2",
      "metadata": {
        "colab": {
          "base_uri": "https://localhost:8080/"
        },
        "id": "2aadb2e2",
        "outputId": "fe652632-4343-401d-9ee1-972e8f5a0616"
      },
      "outputs": [
        {
          "output_type": "execute_result",
          "data": {
            "text/plain": [
              "0"
            ]
          },
          "metadata": {},
          "execution_count": 12
        }
      ],
      "source": [
        "df.Outlet_Size.fillna(df.Outlet_Size.mode()[0],inplace=True)\n",
        "df.Outlet_Size.isna().sum()"
      ]
    },
    {
      "cell_type": "code",
      "execution_count": 13,
      "id": "ab551694",
      "metadata": {
        "colab": {
          "base_uri": "https://localhost:8080/"
        },
        "id": "ab551694",
        "outputId": "7f452b9a-fd72-4f79-d0ea-f885c2f9e15c"
      },
      "outputs": [
        {
          "output_type": "stream",
          "name": "stdout",
          "text": [
            "<class 'pandas.core.frame.DataFrame'>\n",
            "RangeIndex: 8523 entries, 0 to 8522\n",
            "Data columns (total 12 columns):\n",
            " #   Column                     Non-Null Count  Dtype  \n",
            "---  ------                     --------------  -----  \n",
            " 0   Item_Identifier            8523 non-null   object \n",
            " 1   Item_Weight                8523 non-null   float64\n",
            " 2   Item_Fat_Content           8523 non-null   object \n",
            " 3   Item_Visibility            8523 non-null   float64\n",
            " 4   Item_Type                  8523 non-null   object \n",
            " 5   Item_MRP                   8523 non-null   float64\n",
            " 6   Outlet_Identifier          8523 non-null   object \n",
            " 7   Outlet_Establishment_Year  8523 non-null   int64  \n",
            " 8   Outlet_Size                8523 non-null   object \n",
            " 9   Outlet_Location_Type       8523 non-null   object \n",
            " 10  Outlet_Type                8523 non-null   object \n",
            " 11  Item_Outlet_Sales          8523 non-null   float64\n",
            "dtypes: float64(4), int64(1), object(7)\n",
            "memory usage: 799.2+ KB\n"
          ]
        }
      ],
      "source": [
        "df.info()"
      ]
    },
    {
      "cell_type": "code",
      "execution_count": 14,
      "id": "bc582ba5",
      "metadata": {
        "colab": {
          "base_uri": "https://localhost:8080/",
          "height": 300
        },
        "id": "bc582ba5",
        "outputId": "142b3c45-4c2f-4ab4-9785-039e7a9536af"
      },
      "outputs": [
        {
          "output_type": "execute_result",
          "data": {
            "text/plain": [
              "       Item_Weight  Item_Visibility     Item_MRP  Outlet_Establishment_Year  \\\n",
              "count  8523.000000      8523.000000  8523.000000                8523.000000   \n",
              "mean     12.857645         0.066132   140.992782                1997.831867   \n",
              "std       4.226124         0.051598    62.275067                   8.371760   \n",
              "min       4.555000         0.000000    31.290000                1985.000000   \n",
              "25%       9.310000         0.026989    93.826500                1987.000000   \n",
              "50%      12.857645         0.053931   143.012800                1999.000000   \n",
              "75%      16.000000         0.094585   185.643700                2004.000000   \n",
              "max      21.350000         0.328391   266.888400                2009.000000   \n",
              "\n",
              "       Item_Outlet_Sales  \n",
              "count        8523.000000  \n",
              "mean         2181.288914  \n",
              "std          1706.499616  \n",
              "min            33.290000  \n",
              "25%           834.247400  \n",
              "50%          1794.331000  \n",
              "75%          3101.296400  \n",
              "max         13086.964800  "
            ],
            "text/html": [
              "\n",
              "  <div id=\"df-360d577a-8a4f-4bae-b991-6d4f53c652a0\">\n",
              "    <div class=\"colab-df-container\">\n",
              "      <div>\n",
              "<style scoped>\n",
              "    .dataframe tbody tr th:only-of-type {\n",
              "        vertical-align: middle;\n",
              "    }\n",
              "\n",
              "    .dataframe tbody tr th {\n",
              "        vertical-align: top;\n",
              "    }\n",
              "\n",
              "    .dataframe thead th {\n",
              "        text-align: right;\n",
              "    }\n",
              "</style>\n",
              "<table border=\"1\" class=\"dataframe\">\n",
              "  <thead>\n",
              "    <tr style=\"text-align: right;\">\n",
              "      <th></th>\n",
              "      <th>Item_Weight</th>\n",
              "      <th>Item_Visibility</th>\n",
              "      <th>Item_MRP</th>\n",
              "      <th>Outlet_Establishment_Year</th>\n",
              "      <th>Item_Outlet_Sales</th>\n",
              "    </tr>\n",
              "  </thead>\n",
              "  <tbody>\n",
              "    <tr>\n",
              "      <th>count</th>\n",
              "      <td>8523.000000</td>\n",
              "      <td>8523.000000</td>\n",
              "      <td>8523.000000</td>\n",
              "      <td>8523.000000</td>\n",
              "      <td>8523.000000</td>\n",
              "    </tr>\n",
              "    <tr>\n",
              "      <th>mean</th>\n",
              "      <td>12.857645</td>\n",
              "      <td>0.066132</td>\n",
              "      <td>140.992782</td>\n",
              "      <td>1997.831867</td>\n",
              "      <td>2181.288914</td>\n",
              "    </tr>\n",
              "    <tr>\n",
              "      <th>std</th>\n",
              "      <td>4.226124</td>\n",
              "      <td>0.051598</td>\n",
              "      <td>62.275067</td>\n",
              "      <td>8.371760</td>\n",
              "      <td>1706.499616</td>\n",
              "    </tr>\n",
              "    <tr>\n",
              "      <th>min</th>\n",
              "      <td>4.555000</td>\n",
              "      <td>0.000000</td>\n",
              "      <td>31.290000</td>\n",
              "      <td>1985.000000</td>\n",
              "      <td>33.290000</td>\n",
              "    </tr>\n",
              "    <tr>\n",
              "      <th>25%</th>\n",
              "      <td>9.310000</td>\n",
              "      <td>0.026989</td>\n",
              "      <td>93.826500</td>\n",
              "      <td>1987.000000</td>\n",
              "      <td>834.247400</td>\n",
              "    </tr>\n",
              "    <tr>\n",
              "      <th>50%</th>\n",
              "      <td>12.857645</td>\n",
              "      <td>0.053931</td>\n",
              "      <td>143.012800</td>\n",
              "      <td>1999.000000</td>\n",
              "      <td>1794.331000</td>\n",
              "    </tr>\n",
              "    <tr>\n",
              "      <th>75%</th>\n",
              "      <td>16.000000</td>\n",
              "      <td>0.094585</td>\n",
              "      <td>185.643700</td>\n",
              "      <td>2004.000000</td>\n",
              "      <td>3101.296400</td>\n",
              "    </tr>\n",
              "    <tr>\n",
              "      <th>max</th>\n",
              "      <td>21.350000</td>\n",
              "      <td>0.328391</td>\n",
              "      <td>266.888400</td>\n",
              "      <td>2009.000000</td>\n",
              "      <td>13086.964800</td>\n",
              "    </tr>\n",
              "  </tbody>\n",
              "</table>\n",
              "</div>\n",
              "      <button class=\"colab-df-convert\" onclick=\"convertToInteractive('df-360d577a-8a4f-4bae-b991-6d4f53c652a0')\"\n",
              "              title=\"Convert this dataframe to an interactive table.\"\n",
              "              style=\"display:none;\">\n",
              "        \n",
              "  <svg xmlns=\"http://www.w3.org/2000/svg\" height=\"24px\"viewBox=\"0 0 24 24\"\n",
              "       width=\"24px\">\n",
              "    <path d=\"M0 0h24v24H0V0z\" fill=\"none\"/>\n",
              "    <path d=\"M18.56 5.44l.94 2.06.94-2.06 2.06-.94-2.06-.94-.94-2.06-.94 2.06-2.06.94zm-11 1L8.5 8.5l.94-2.06 2.06-.94-2.06-.94L8.5 2.5l-.94 2.06-2.06.94zm10 10l.94 2.06.94-2.06 2.06-.94-2.06-.94-.94-2.06-.94 2.06-2.06.94z\"/><path d=\"M17.41 7.96l-1.37-1.37c-.4-.4-.92-.59-1.43-.59-.52 0-1.04.2-1.43.59L10.3 9.45l-7.72 7.72c-.78.78-.78 2.05 0 2.83L4 21.41c.39.39.9.59 1.41.59.51 0 1.02-.2 1.41-.59l7.78-7.78 2.81-2.81c.8-.78.8-2.07 0-2.86zM5.41 20L4 18.59l7.72-7.72 1.47 1.35L5.41 20z\"/>\n",
              "  </svg>\n",
              "      </button>\n",
              "      \n",
              "  <style>\n",
              "    .colab-df-container {\n",
              "      display:flex;\n",
              "      flex-wrap:wrap;\n",
              "      gap: 12px;\n",
              "    }\n",
              "\n",
              "    .colab-df-convert {\n",
              "      background-color: #E8F0FE;\n",
              "      border: none;\n",
              "      border-radius: 50%;\n",
              "      cursor: pointer;\n",
              "      display: none;\n",
              "      fill: #1967D2;\n",
              "      height: 32px;\n",
              "      padding: 0 0 0 0;\n",
              "      width: 32px;\n",
              "    }\n",
              "\n",
              "    .colab-df-convert:hover {\n",
              "      background-color: #E2EBFA;\n",
              "      box-shadow: 0px 1px 2px rgba(60, 64, 67, 0.3), 0px 1px 3px 1px rgba(60, 64, 67, 0.15);\n",
              "      fill: #174EA6;\n",
              "    }\n",
              "\n",
              "    [theme=dark] .colab-df-convert {\n",
              "      background-color: #3B4455;\n",
              "      fill: #D2E3FC;\n",
              "    }\n",
              "\n",
              "    [theme=dark] .colab-df-convert:hover {\n",
              "      background-color: #434B5C;\n",
              "      box-shadow: 0px 1px 3px 1px rgba(0, 0, 0, 0.15);\n",
              "      filter: drop-shadow(0px 1px 2px rgba(0, 0, 0, 0.3));\n",
              "      fill: #FFFFFF;\n",
              "    }\n",
              "  </style>\n",
              "\n",
              "      <script>\n",
              "        const buttonEl =\n",
              "          document.querySelector('#df-360d577a-8a4f-4bae-b991-6d4f53c652a0 button.colab-df-convert');\n",
              "        buttonEl.style.display =\n",
              "          google.colab.kernel.accessAllowed ? 'block' : 'none';\n",
              "\n",
              "        async function convertToInteractive(key) {\n",
              "          const element = document.querySelector('#df-360d577a-8a4f-4bae-b991-6d4f53c652a0');\n",
              "          const dataTable =\n",
              "            await google.colab.kernel.invokeFunction('convertToInteractive',\n",
              "                                                     [key], {});\n",
              "          if (!dataTable) return;\n",
              "\n",
              "          const docLinkHtml = 'Like what you see? Visit the ' +\n",
              "            '<a target=\"_blank\" href=https://colab.research.google.com/notebooks/data_table.ipynb>data table notebook</a>'\n",
              "            + ' to learn more about interactive tables.';\n",
              "          element.innerHTML = '';\n",
              "          dataTable['output_type'] = 'display_data';\n",
              "          await google.colab.output.renderOutput(dataTable, element);\n",
              "          const docLink = document.createElement('div');\n",
              "          docLink.innerHTML = docLinkHtml;\n",
              "          element.appendChild(docLink);\n",
              "        }\n",
              "      </script>\n",
              "    </div>\n",
              "  </div>\n",
              "  "
            ]
          },
          "metadata": {},
          "execution_count": 14
        }
      ],
      "source": [
        "df.describe()"
      ]
    },
    {
      "cell_type": "code",
      "execution_count": 15,
      "id": "574f7712",
      "metadata": {
        "colab": {
          "base_uri": "https://localhost:8080/"
        },
        "id": "574f7712",
        "outputId": "58e2080b-f502-4647-a5cc-d9f531df273b"
      },
      "outputs": [
        {
          "output_type": "execute_result",
          "data": {
            "text/plain": [
              "FDW13    10\n",
              "FDG33    10\n",
              "NCY18     9\n",
              "FDD38     9\n",
              "DRE49     9\n",
              "         ..\n",
              "FDY43     1\n",
              "FDQ60     1\n",
              "FDO33     1\n",
              "DRF48     1\n",
              "FDC23     1\n",
              "Name: Item_Identifier, Length: 1559, dtype: int64"
            ]
          },
          "metadata": {},
          "execution_count": 15
        }
      ],
      "source": [
        "df.Item_Identifier.value_counts()"
      ]
    },
    {
      "cell_type": "code",
      "execution_count": 16,
      "id": "b17bbe77",
      "metadata": {
        "id": "b17bbe77"
      },
      "outputs": [],
      "source": [
        "label=LabelEncoder()\n",
        "df.Item_Identifier=label.fit_transform(df.Item_Identifier)"
      ]
    },
    {
      "cell_type": "code",
      "execution_count": 17,
      "id": "5af10ff5",
      "metadata": {
        "colab": {
          "base_uri": "https://localhost:8080/"
        },
        "id": "5af10ff5",
        "outputId": "f4edf680-b4bc-4921-9bd1-49865984587d"
      },
      "outputs": [
        {
          "output_type": "execute_result",
          "data": {
            "text/plain": [
              "1077    10\n",
              "413     10\n",
              "1542     9\n",
              "301      9\n",
              "35       9\n",
              "        ..\n",
              "1200     1\n",
              "819      1\n",
              "713      1\n",
              "46       1\n",
              "251      1\n",
              "Name: Item_Identifier, Length: 1559, dtype: int64"
            ]
          },
          "metadata": {},
          "execution_count": 17
        }
      ],
      "source": [
        "df.Item_Identifier.value_counts()"
      ]
    },
    {
      "cell_type": "code",
      "execution_count": 18,
      "id": "df0de5ff",
      "metadata": {
        "colab": {
          "base_uri": "https://localhost:8080/"
        },
        "id": "df0de5ff",
        "outputId": "9be043b2-aa90-4726-cc5b-d3c45f5c0806"
      },
      "outputs": [
        {
          "output_type": "execute_result",
          "data": {
            "text/plain": [
              "Low Fat    5089\n",
              "Regular    2889\n",
              "LF          316\n",
              "reg         117\n",
              "low fat     112\n",
              "Name: Item_Fat_Content, dtype: int64"
            ]
          },
          "metadata": {},
          "execution_count": 18
        }
      ],
      "source": [
        "df['Item_Fat_Content'].value_counts()"
      ]
    },
    {
      "cell_type": "code",
      "execution_count": 19,
      "id": "f13a7bc2",
      "metadata": {
        "colab": {
          "base_uri": "https://localhost:8080/"
        },
        "id": "f13a7bc2",
        "outputId": "54986b4f-dae6-4896-fdb7-a1dbfaefc135"
      },
      "outputs": [
        {
          "output_type": "execute_result",
          "data": {
            "text/plain": [
              "Low Fat    5517\n",
              "Regular    3006\n",
              "Name: Item_Fat_Content, dtype: int64"
            ]
          },
          "metadata": {},
          "execution_count": 19
        }
      ],
      "source": [
        "df['Item_Fat_Content'].replace({'LF':'Low Fat','low fat':'Low Fat','reg':'Regular'},inplace=True)\n",
        "df['Item_Fat_Content'].value_counts()"
      ]
    },
    {
      "cell_type": "code",
      "execution_count": 20,
      "id": "5535da6a",
      "metadata": {
        "colab": {
          "base_uri": "https://localhost:8080/"
        },
        "id": "5535da6a",
        "outputId": "7fa3720d-25c5-43dc-b5e6-109feed502df"
      },
      "outputs": [
        {
          "output_type": "execute_result",
          "data": {
            "text/plain": [
              "0    5517\n",
              "1    3006\n",
              "Name: Item_Fat_Content, dtype: int64"
            ]
          },
          "metadata": {},
          "execution_count": 20
        }
      ],
      "source": [
        "df['Item_Fat_Content'].replace({'Low Fat':0,'Regular':1},inplace=True)\n",
        "df.Item_Fat_Content.value_counts()"
      ]
    },
    {
      "cell_type": "code",
      "execution_count": 21,
      "id": "ca5d0894",
      "metadata": {
        "colab": {
          "base_uri": "https://localhost:8080/"
        },
        "id": "ca5d0894",
        "outputId": "8cbe4de1-e25d-474f-99ba-aec30564daaf"
      },
      "outputs": [
        {
          "output_type": "execute_result",
          "data": {
            "text/plain": [
              "Fruits and Vegetables    1232\n",
              "Snack Foods              1200\n",
              "Household                 910\n",
              "Frozen Foods              856\n",
              "Dairy                     682\n",
              "Canned                    649\n",
              "Baking Goods              648\n",
              "Health and Hygiene        520\n",
              "Soft Drinks               445\n",
              "Meat                      425\n",
              "Breads                    251\n",
              "Hard Drinks               214\n",
              "Others                    169\n",
              "Starchy Foods             148\n",
              "Breakfast                 110\n",
              "Seafood                    64\n",
              "Name: Item_Type, dtype: int64"
            ]
          },
          "metadata": {},
          "execution_count": 21
        }
      ],
      "source": [
        "df.Item_Type.value_counts()"
      ]
    },
    {
      "cell_type": "code",
      "execution_count": 22,
      "id": "036149a8",
      "metadata": {
        "colab": {
          "base_uri": "https://localhost:8080/"
        },
        "id": "036149a8",
        "outputId": "da2d22dd-5a3c-4eb8-9511-e9667a9c8383"
      },
      "outputs": [
        {
          "output_type": "execute_result",
          "data": {
            "text/plain": [
              "6     1232\n",
              "13    1200\n",
              "9      910\n",
              "5      856\n",
              "4      682\n",
              "3      649\n",
              "0      648\n",
              "8      520\n",
              "14     445\n",
              "10     425\n",
              "1      251\n",
              "7      214\n",
              "11     169\n",
              "15     148\n",
              "2      110\n",
              "12      64\n",
              "Name: Item_Type, dtype: int64"
            ]
          },
          "metadata": {},
          "execution_count": 22
        }
      ],
      "source": [
        "df['Item_Type']=label.fit_transform(df['Item_Type'])\n",
        "df['Item_Type'].value_counts()"
      ]
    },
    {
      "cell_type": "code",
      "execution_count": 23,
      "id": "87eb7a98",
      "metadata": {
        "colab": {
          "base_uri": "https://localhost:8080/"
        },
        "id": "87eb7a98",
        "outputId": "8ed1fa93-0992-4d48-a628-710533e000f3"
      },
      "outputs": [
        {
          "output_type": "execute_result",
          "data": {
            "text/plain": [
              "OUT027    935\n",
              "OUT013    932\n",
              "OUT049    930\n",
              "OUT046    930\n",
              "OUT035    930\n",
              "OUT045    929\n",
              "OUT018    928\n",
              "OUT017    926\n",
              "OUT010    555\n",
              "OUT019    528\n",
              "Name: Outlet_Identifier, dtype: int64"
            ]
          },
          "metadata": {},
          "execution_count": 23
        }
      ],
      "source": [
        "df['Outlet_Identifier'].value_counts()"
      ]
    },
    {
      "cell_type": "code",
      "execution_count": 24,
      "id": "b0f12688",
      "metadata": {
        "colab": {
          "base_uri": "https://localhost:8080/"
        },
        "id": "b0f12688",
        "outputId": "8806c074-86c6-47c6-826c-e63f9fdfdc61"
      },
      "outputs": [
        {
          "output_type": "execute_result",
          "data": {
            "text/plain": [
              "5    935\n",
              "1    932\n",
              "9    930\n",
              "8    930\n",
              "6    930\n",
              "7    929\n",
              "3    928\n",
              "2    926\n",
              "0    555\n",
              "4    528\n",
              "Name: Outlet_Identifier, dtype: int64"
            ]
          },
          "metadata": {},
          "execution_count": 24
        }
      ],
      "source": [
        "df['Outlet_Identifier']=label.fit_transform(df['Outlet_Identifier'])\n",
        "df['Outlet_Identifier'].value_counts()"
      ]
    },
    {
      "cell_type": "code",
      "execution_count": 25,
      "id": "7cab9a4c",
      "metadata": {
        "colab": {
          "base_uri": "https://localhost:8080/"
        },
        "id": "7cab9a4c",
        "outputId": "ee3d4063-619c-4eeb-f81a-bd5fa35eebf9"
      },
      "outputs": [
        {
          "output_type": "execute_result",
          "data": {
            "text/plain": [
              "Medium    5203\n",
              "Small     2388\n",
              "High       932\n",
              "Name: Outlet_Size, dtype: int64"
            ]
          },
          "metadata": {},
          "execution_count": 25
        }
      ],
      "source": [
        "df['Outlet_Size'].value_counts()"
      ]
    },
    {
      "cell_type": "code",
      "execution_count": 26,
      "id": "f7b2432d",
      "metadata": {
        "colab": {
          "base_uri": "https://localhost:8080/"
        },
        "id": "f7b2432d",
        "outputId": "7ae9676c-8d85-4417-b0ed-0952072f4c65"
      },
      "outputs": [
        {
          "output_type": "execute_result",
          "data": {
            "text/plain": [
              "1    5203\n",
              "0    2388\n",
              "2     932\n",
              "Name: Outlet_Size, dtype: int64"
            ]
          },
          "metadata": {},
          "execution_count": 26
        }
      ],
      "source": [
        "df['Outlet_Size'].replace({'Small':0,'Medium':1,'High':2},inplace=True)\n",
        "df['Outlet_Size'].value_counts()"
      ]
    },
    {
      "cell_type": "code",
      "execution_count": 27,
      "id": "b44211f0",
      "metadata": {
        "colab": {
          "base_uri": "https://localhost:8080/"
        },
        "id": "b44211f0",
        "outputId": "1043404c-944e-48a1-8f2a-35c550b9cf19"
      },
      "outputs": [
        {
          "output_type": "execute_result",
          "data": {
            "text/plain": [
              "Tier 3    3350\n",
              "Tier 2    2785\n",
              "Tier 1    2388\n",
              "Name: Outlet_Location_Type, dtype: int64"
            ]
          },
          "metadata": {},
          "execution_count": 27
        }
      ],
      "source": [
        "df['Outlet_Location_Type'].value_counts()"
      ]
    },
    {
      "cell_type": "code",
      "execution_count": 28,
      "id": "f67008c6",
      "metadata": {
        "colab": {
          "base_uri": "https://localhost:8080/"
        },
        "id": "f67008c6",
        "outputId": "8011633e-ce27-4ccd-e04e-4e83d6e01db0"
      },
      "outputs": [
        {
          "output_type": "execute_result",
          "data": {
            "text/plain": [
              "2    3350\n",
              "1    2785\n",
              "0    2388\n",
              "Name: Outlet_Location_Type, dtype: int64"
            ]
          },
          "metadata": {},
          "execution_count": 28
        }
      ],
      "source": [
        "df['Outlet_Location_Type'].replace({'Tier 1':0,'Tier 2':1,'Tier 3':2},inplace=True)\n",
        "df['Outlet_Location_Type'].value_counts()"
      ]
    },
    {
      "cell_type": "code",
      "execution_count": 29,
      "id": "53b7965b",
      "metadata": {
        "colab": {
          "base_uri": "https://localhost:8080/"
        },
        "id": "53b7965b",
        "outputId": "ad91d0c6-13b4-493b-8410-97e273106518"
      },
      "outputs": [
        {
          "output_type": "execute_result",
          "data": {
            "text/plain": [
              "Supermarket Type1    5577\n",
              "Grocery Store        1083\n",
              "Supermarket Type3     935\n",
              "Supermarket Type2     928\n",
              "Name: Outlet_Type, dtype: int64"
            ]
          },
          "metadata": {},
          "execution_count": 29
        }
      ],
      "source": [
        "df['Outlet_Type'].value_counts()"
      ]
    },
    {
      "cell_type": "code",
      "execution_count": 30,
      "id": "fa4084fc",
      "metadata": {
        "colab": {
          "base_uri": "https://localhost:8080/"
        },
        "id": "fa4084fc",
        "outputId": "e63bb0cc-e26a-4140-bc8f-6ce2dc93742d"
      },
      "outputs": [
        {
          "output_type": "execute_result",
          "data": {
            "text/plain": [
              "1    5577\n",
              "0    1083\n",
              "3     935\n",
              "2     928\n",
              "Name: Outlet_Type, dtype: int64"
            ]
          },
          "metadata": {},
          "execution_count": 30
        }
      ],
      "source": [
        "df['Outlet_Type']=label.fit_transform(df['Outlet_Type'])\n",
        "df['Outlet_Type'].value_counts()"
      ]
    },
    {
      "cell_type": "code",
      "execution_count": 31,
      "id": "4f73f632",
      "metadata": {
        "colab": {
          "base_uri": "https://localhost:8080/"
        },
        "id": "4f73f632",
        "outputId": "16422daa-a02c-4d15-8de2-bdfa4f82a9fd"
      },
      "outputs": [
        {
          "output_type": "stream",
          "name": "stdout",
          "text": [
            "<class 'pandas.core.frame.DataFrame'>\n",
            "RangeIndex: 8523 entries, 0 to 8522\n",
            "Data columns (total 12 columns):\n",
            " #   Column                     Non-Null Count  Dtype  \n",
            "---  ------                     --------------  -----  \n",
            " 0   Item_Identifier            8523 non-null   int64  \n",
            " 1   Item_Weight                8523 non-null   float64\n",
            " 2   Item_Fat_Content           8523 non-null   int64  \n",
            " 3   Item_Visibility            8523 non-null   float64\n",
            " 4   Item_Type                  8523 non-null   int64  \n",
            " 5   Item_MRP                   8523 non-null   float64\n",
            " 6   Outlet_Identifier          8523 non-null   int64  \n",
            " 7   Outlet_Establishment_Year  8523 non-null   int64  \n",
            " 8   Outlet_Size                8523 non-null   int64  \n",
            " 9   Outlet_Location_Type       8523 non-null   int64  \n",
            " 10  Outlet_Type                8523 non-null   int64  \n",
            " 11  Item_Outlet_Sales          8523 non-null   float64\n",
            "dtypes: float64(4), int64(8)\n",
            "memory usage: 799.2 KB\n"
          ]
        }
      ],
      "source": [
        "df.info()"
      ]
    },
    {
      "cell_type": "code",
      "execution_count": 32,
      "id": "8d728ec4",
      "metadata": {
        "colab": {
          "base_uri": "https://localhost:8080/",
          "height": 490
        },
        "id": "8d728ec4",
        "outputId": "6480e0d5-9771-4d12-ca14-69d260f337df"
      },
      "outputs": [
        {
          "output_type": "execute_result",
          "data": {
            "text/plain": [
              "                           Item_Identifier  Item_Weight  Item_Fat_Content  \\\n",
              "Item_Identifier                   1.000000     0.044518         -0.114660   \n",
              "Item_Weight                       0.044518     1.000000         -0.021157   \n",
              "Item_Fat_Content                 -0.114660    -0.021157          1.000000   \n",
              "Item_Visibility                  -0.025482    -0.012049          0.047314   \n",
              "Item_Type                        -0.017973     0.028015         -0.139434   \n",
              "Item_MRP                          0.012853     0.024756          0.006063   \n",
              "Outlet_Identifier                -0.008602    -0.007975          0.000764   \n",
              "Outlet_Establishment_Year        -0.012772    -0.008301          0.003151   \n",
              "Outlet_Size                      -0.001389     0.007225          0.000622   \n",
              "Outlet_Location_Type              0.003656     0.004088         -0.001598   \n",
              "Outlet_Type                      -0.001178    -0.000566          0.002199   \n",
              "Item_Outlet_Sales                 0.002869     0.011550          0.018719   \n",
              "\n",
              "                           Item_Visibility  Item_Type  Item_MRP  \\\n",
              "Item_Identifier                  -0.025482  -0.017973  0.012853   \n",
              "Item_Weight                      -0.012049   0.028015  0.024756   \n",
              "Item_Fat_Content                  0.047314  -0.139434  0.006063   \n",
              "Item_Visibility                   1.000000  -0.035249 -0.001315   \n",
              "Item_Type                        -0.035249   1.000000  0.032651   \n",
              "Item_MRP                         -0.001315   0.032651  1.000000   \n",
              "Outlet_Identifier                -0.100439   0.001656  0.003319   \n",
              "Outlet_Establishment_Year        -0.074834   0.004970  0.005020   \n",
              "Outlet_Size                      -0.069309   0.001859 -0.006059   \n",
              "Outlet_Location_Type             -0.028099   0.003084  0.000232   \n",
              "Outlet_Type                      -0.173468   0.003053 -0.001975   \n",
              "Item_Outlet_Sales                -0.128625   0.017048  0.567574   \n",
              "\n",
              "                           Outlet_Identifier  Outlet_Establishment_Year  \\\n",
              "Item_Identifier                    -0.008602                  -0.012772   \n",
              "Item_Weight                        -0.007975                  -0.008301   \n",
              "Item_Fat_Content                    0.000764                   0.003151   \n",
              "Item_Visibility                    -0.100439                  -0.074834   \n",
              "Item_Type                           0.001656                   0.004970   \n",
              "Item_MRP                            0.003319                   0.005020   \n",
              "Outlet_Identifier                   1.000000                   0.079035   \n",
              "Outlet_Establishment_Year           0.079035                   1.000000   \n",
              "Outlet_Size                        -0.504603                  -0.193389   \n",
              "Outlet_Location_Type               -0.716176                  -0.089216   \n",
              "Outlet_Type                         0.099873                  -0.122304   \n",
              "Item_Outlet_Sales                   0.162325                  -0.049135   \n",
              "\n",
              "                           Outlet_Size  Outlet_Location_Type  Outlet_Type  \\\n",
              "Item_Identifier              -0.001389              0.003656    -0.001178   \n",
              "Item_Weight                   0.007225              0.004088    -0.000566   \n",
              "Item_Fat_Content              0.000622             -0.001598     0.002199   \n",
              "Item_Visibility              -0.069309             -0.028099    -0.173468   \n",
              "Item_Type                     0.001859              0.003084     0.003053   \n",
              "Item_MRP                     -0.006059              0.000232    -0.001975   \n",
              "Outlet_Identifier            -0.504603             -0.716176     0.099873   \n",
              "Outlet_Establishment_Year    -0.193389             -0.089216    -0.122304   \n",
              "Outlet_Size                   1.000000              0.614311     0.201483   \n",
              "Outlet_Location_Type          0.614311              1.000000     0.467219   \n",
              "Outlet_Type                   0.201483              0.467219     1.000000   \n",
              "Item_Outlet_Sales             0.086182              0.089367     0.401522   \n",
              "\n",
              "                           Item_Outlet_Sales  \n",
              "Item_Identifier                     0.002869  \n",
              "Item_Weight                         0.011550  \n",
              "Item_Fat_Content                    0.018719  \n",
              "Item_Visibility                    -0.128625  \n",
              "Item_Type                           0.017048  \n",
              "Item_MRP                            0.567574  \n",
              "Outlet_Identifier                   0.162325  \n",
              "Outlet_Establishment_Year          -0.049135  \n",
              "Outlet_Size                         0.086182  \n",
              "Outlet_Location_Type                0.089367  \n",
              "Outlet_Type                         0.401522  \n",
              "Item_Outlet_Sales                   1.000000  "
            ],
            "text/html": [
              "\n",
              "  <div id=\"df-c8c79b31-a221-43d7-a4d6-3ab5a730e68b\">\n",
              "    <div class=\"colab-df-container\">\n",
              "      <div>\n",
              "<style scoped>\n",
              "    .dataframe tbody tr th:only-of-type {\n",
              "        vertical-align: middle;\n",
              "    }\n",
              "\n",
              "    .dataframe tbody tr th {\n",
              "        vertical-align: top;\n",
              "    }\n",
              "\n",
              "    .dataframe thead th {\n",
              "        text-align: right;\n",
              "    }\n",
              "</style>\n",
              "<table border=\"1\" class=\"dataframe\">\n",
              "  <thead>\n",
              "    <tr style=\"text-align: right;\">\n",
              "      <th></th>\n",
              "      <th>Item_Identifier</th>\n",
              "      <th>Item_Weight</th>\n",
              "      <th>Item_Fat_Content</th>\n",
              "      <th>Item_Visibility</th>\n",
              "      <th>Item_Type</th>\n",
              "      <th>Item_MRP</th>\n",
              "      <th>Outlet_Identifier</th>\n",
              "      <th>Outlet_Establishment_Year</th>\n",
              "      <th>Outlet_Size</th>\n",
              "      <th>Outlet_Location_Type</th>\n",
              "      <th>Outlet_Type</th>\n",
              "      <th>Item_Outlet_Sales</th>\n",
              "    </tr>\n",
              "  </thead>\n",
              "  <tbody>\n",
              "    <tr>\n",
              "      <th>Item_Identifier</th>\n",
              "      <td>1.000000</td>\n",
              "      <td>0.044518</td>\n",
              "      <td>-0.114660</td>\n",
              "      <td>-0.025482</td>\n",
              "      <td>-0.017973</td>\n",
              "      <td>0.012853</td>\n",
              "      <td>-0.008602</td>\n",
              "      <td>-0.012772</td>\n",
              "      <td>-0.001389</td>\n",
              "      <td>0.003656</td>\n",
              "      <td>-0.001178</td>\n",
              "      <td>0.002869</td>\n",
              "    </tr>\n",
              "    <tr>\n",
              "      <th>Item_Weight</th>\n",
              "      <td>0.044518</td>\n",
              "      <td>1.000000</td>\n",
              "      <td>-0.021157</td>\n",
              "      <td>-0.012049</td>\n",
              "      <td>0.028015</td>\n",
              "      <td>0.024756</td>\n",
              "      <td>-0.007975</td>\n",
              "      <td>-0.008301</td>\n",
              "      <td>0.007225</td>\n",
              "      <td>0.004088</td>\n",
              "      <td>-0.000566</td>\n",
              "      <td>0.011550</td>\n",
              "    </tr>\n",
              "    <tr>\n",
              "      <th>Item_Fat_Content</th>\n",
              "      <td>-0.114660</td>\n",
              "      <td>-0.021157</td>\n",
              "      <td>1.000000</td>\n",
              "      <td>0.047314</td>\n",
              "      <td>-0.139434</td>\n",
              "      <td>0.006063</td>\n",
              "      <td>0.000764</td>\n",
              "      <td>0.003151</td>\n",
              "      <td>0.000622</td>\n",
              "      <td>-0.001598</td>\n",
              "      <td>0.002199</td>\n",
              "      <td>0.018719</td>\n",
              "    </tr>\n",
              "    <tr>\n",
              "      <th>Item_Visibility</th>\n",
              "      <td>-0.025482</td>\n",
              "      <td>-0.012049</td>\n",
              "      <td>0.047314</td>\n",
              "      <td>1.000000</td>\n",
              "      <td>-0.035249</td>\n",
              "      <td>-0.001315</td>\n",
              "      <td>-0.100439</td>\n",
              "      <td>-0.074834</td>\n",
              "      <td>-0.069309</td>\n",
              "      <td>-0.028099</td>\n",
              "      <td>-0.173468</td>\n",
              "      <td>-0.128625</td>\n",
              "    </tr>\n",
              "    <tr>\n",
              "      <th>Item_Type</th>\n",
              "      <td>-0.017973</td>\n",
              "      <td>0.028015</td>\n",
              "      <td>-0.139434</td>\n",
              "      <td>-0.035249</td>\n",
              "      <td>1.000000</td>\n",
              "      <td>0.032651</td>\n",
              "      <td>0.001656</td>\n",
              "      <td>0.004970</td>\n",
              "      <td>0.001859</td>\n",
              "      <td>0.003084</td>\n",
              "      <td>0.003053</td>\n",
              "      <td>0.017048</td>\n",
              "    </tr>\n",
              "    <tr>\n",
              "      <th>Item_MRP</th>\n",
              "      <td>0.012853</td>\n",
              "      <td>0.024756</td>\n",
              "      <td>0.006063</td>\n",
              "      <td>-0.001315</td>\n",
              "      <td>0.032651</td>\n",
              "      <td>1.000000</td>\n",
              "      <td>0.003319</td>\n",
              "      <td>0.005020</td>\n",
              "      <td>-0.006059</td>\n",
              "      <td>0.000232</td>\n",
              "      <td>-0.001975</td>\n",
              "      <td>0.567574</td>\n",
              "    </tr>\n",
              "    <tr>\n",
              "      <th>Outlet_Identifier</th>\n",
              "      <td>-0.008602</td>\n",
              "      <td>-0.007975</td>\n",
              "      <td>0.000764</td>\n",
              "      <td>-0.100439</td>\n",
              "      <td>0.001656</td>\n",
              "      <td>0.003319</td>\n",
              "      <td>1.000000</td>\n",
              "      <td>0.079035</td>\n",
              "      <td>-0.504603</td>\n",
              "      <td>-0.716176</td>\n",
              "      <td>0.099873</td>\n",
              "      <td>0.162325</td>\n",
              "    </tr>\n",
              "    <tr>\n",
              "      <th>Outlet_Establishment_Year</th>\n",
              "      <td>-0.012772</td>\n",
              "      <td>-0.008301</td>\n",
              "      <td>0.003151</td>\n",
              "      <td>-0.074834</td>\n",
              "      <td>0.004970</td>\n",
              "      <td>0.005020</td>\n",
              "      <td>0.079035</td>\n",
              "      <td>1.000000</td>\n",
              "      <td>-0.193389</td>\n",
              "      <td>-0.089216</td>\n",
              "      <td>-0.122304</td>\n",
              "      <td>-0.049135</td>\n",
              "    </tr>\n",
              "    <tr>\n",
              "      <th>Outlet_Size</th>\n",
              "      <td>-0.001389</td>\n",
              "      <td>0.007225</td>\n",
              "      <td>0.000622</td>\n",
              "      <td>-0.069309</td>\n",
              "      <td>0.001859</td>\n",
              "      <td>-0.006059</td>\n",
              "      <td>-0.504603</td>\n",
              "      <td>-0.193389</td>\n",
              "      <td>1.000000</td>\n",
              "      <td>0.614311</td>\n",
              "      <td>0.201483</td>\n",
              "      <td>0.086182</td>\n",
              "    </tr>\n",
              "    <tr>\n",
              "      <th>Outlet_Location_Type</th>\n",
              "      <td>0.003656</td>\n",
              "      <td>0.004088</td>\n",
              "      <td>-0.001598</td>\n",
              "      <td>-0.028099</td>\n",
              "      <td>0.003084</td>\n",
              "      <td>0.000232</td>\n",
              "      <td>-0.716176</td>\n",
              "      <td>-0.089216</td>\n",
              "      <td>0.614311</td>\n",
              "      <td>1.000000</td>\n",
              "      <td>0.467219</td>\n",
              "      <td>0.089367</td>\n",
              "    </tr>\n",
              "    <tr>\n",
              "      <th>Outlet_Type</th>\n",
              "      <td>-0.001178</td>\n",
              "      <td>-0.000566</td>\n",
              "      <td>0.002199</td>\n",
              "      <td>-0.173468</td>\n",
              "      <td>0.003053</td>\n",
              "      <td>-0.001975</td>\n",
              "      <td>0.099873</td>\n",
              "      <td>-0.122304</td>\n",
              "      <td>0.201483</td>\n",
              "      <td>0.467219</td>\n",
              "      <td>1.000000</td>\n",
              "      <td>0.401522</td>\n",
              "    </tr>\n",
              "    <tr>\n",
              "      <th>Item_Outlet_Sales</th>\n",
              "      <td>0.002869</td>\n",
              "      <td>0.011550</td>\n",
              "      <td>0.018719</td>\n",
              "      <td>-0.128625</td>\n",
              "      <td>0.017048</td>\n",
              "      <td>0.567574</td>\n",
              "      <td>0.162325</td>\n",
              "      <td>-0.049135</td>\n",
              "      <td>0.086182</td>\n",
              "      <td>0.089367</td>\n",
              "      <td>0.401522</td>\n",
              "      <td>1.000000</td>\n",
              "    </tr>\n",
              "  </tbody>\n",
              "</table>\n",
              "</div>\n",
              "      <button class=\"colab-df-convert\" onclick=\"convertToInteractive('df-c8c79b31-a221-43d7-a4d6-3ab5a730e68b')\"\n",
              "              title=\"Convert this dataframe to an interactive table.\"\n",
              "              style=\"display:none;\">\n",
              "        \n",
              "  <svg xmlns=\"http://www.w3.org/2000/svg\" height=\"24px\"viewBox=\"0 0 24 24\"\n",
              "       width=\"24px\">\n",
              "    <path d=\"M0 0h24v24H0V0z\" fill=\"none\"/>\n",
              "    <path d=\"M18.56 5.44l.94 2.06.94-2.06 2.06-.94-2.06-.94-.94-2.06-.94 2.06-2.06.94zm-11 1L8.5 8.5l.94-2.06 2.06-.94-2.06-.94L8.5 2.5l-.94 2.06-2.06.94zm10 10l.94 2.06.94-2.06 2.06-.94-2.06-.94-.94-2.06-.94 2.06-2.06.94z\"/><path d=\"M17.41 7.96l-1.37-1.37c-.4-.4-.92-.59-1.43-.59-.52 0-1.04.2-1.43.59L10.3 9.45l-7.72 7.72c-.78.78-.78 2.05 0 2.83L4 21.41c.39.39.9.59 1.41.59.51 0 1.02-.2 1.41-.59l7.78-7.78 2.81-2.81c.8-.78.8-2.07 0-2.86zM5.41 20L4 18.59l7.72-7.72 1.47 1.35L5.41 20z\"/>\n",
              "  </svg>\n",
              "      </button>\n",
              "      \n",
              "  <style>\n",
              "    .colab-df-container {\n",
              "      display:flex;\n",
              "      flex-wrap:wrap;\n",
              "      gap: 12px;\n",
              "    }\n",
              "\n",
              "    .colab-df-convert {\n",
              "      background-color: #E8F0FE;\n",
              "      border: none;\n",
              "      border-radius: 50%;\n",
              "      cursor: pointer;\n",
              "      display: none;\n",
              "      fill: #1967D2;\n",
              "      height: 32px;\n",
              "      padding: 0 0 0 0;\n",
              "      width: 32px;\n",
              "    }\n",
              "\n",
              "    .colab-df-convert:hover {\n",
              "      background-color: #E2EBFA;\n",
              "      box-shadow: 0px 1px 2px rgba(60, 64, 67, 0.3), 0px 1px 3px 1px rgba(60, 64, 67, 0.15);\n",
              "      fill: #174EA6;\n",
              "    }\n",
              "\n",
              "    [theme=dark] .colab-df-convert {\n",
              "      background-color: #3B4455;\n",
              "      fill: #D2E3FC;\n",
              "    }\n",
              "\n",
              "    [theme=dark] .colab-df-convert:hover {\n",
              "      background-color: #434B5C;\n",
              "      box-shadow: 0px 1px 3px 1px rgba(0, 0, 0, 0.15);\n",
              "      filter: drop-shadow(0px 1px 2px rgba(0, 0, 0, 0.3));\n",
              "      fill: #FFFFFF;\n",
              "    }\n",
              "  </style>\n",
              "\n",
              "      <script>\n",
              "        const buttonEl =\n",
              "          document.querySelector('#df-c8c79b31-a221-43d7-a4d6-3ab5a730e68b button.colab-df-convert');\n",
              "        buttonEl.style.display =\n",
              "          google.colab.kernel.accessAllowed ? 'block' : 'none';\n",
              "\n",
              "        async function convertToInteractive(key) {\n",
              "          const element = document.querySelector('#df-c8c79b31-a221-43d7-a4d6-3ab5a730e68b');\n",
              "          const dataTable =\n",
              "            await google.colab.kernel.invokeFunction('convertToInteractive',\n",
              "                                                     [key], {});\n",
              "          if (!dataTable) return;\n",
              "\n",
              "          const docLinkHtml = 'Like what you see? Visit the ' +\n",
              "            '<a target=\"_blank\" href=https://colab.research.google.com/notebooks/data_table.ipynb>data table notebook</a>'\n",
              "            + ' to learn more about interactive tables.';\n",
              "          element.innerHTML = '';\n",
              "          dataTable['output_type'] = 'display_data';\n",
              "          await google.colab.output.renderOutput(dataTable, element);\n",
              "          const docLink = document.createElement('div');\n",
              "          docLink.innerHTML = docLinkHtml;\n",
              "          element.appendChild(docLink);\n",
              "        }\n",
              "      </script>\n",
              "    </div>\n",
              "  </div>\n",
              "  "
            ]
          },
          "metadata": {},
          "execution_count": 32
        }
      ],
      "source": [
        "df.corr()"
      ]
    },
    {
      "cell_type": "code",
      "execution_count": 33,
      "id": "737e218c",
      "metadata": {
        "colab": {
          "base_uri": "https://localhost:8080/",
          "height": 990
        },
        "id": "737e218c",
        "outputId": "4526a927-0b83-40d2-b57c-d10f4608f028"
      },
      "outputs": [
        {
          "output_type": "display_data",
          "data": {
            "text/plain": [
              "<Figure size 1440x1080 with 2 Axes>"
            ],
            "image/png": "[encoded data removed]"
          },
          "metadata": {
            "needs_background": "light"
          }
        }
      ],
      "source": [
        "plt.figure(figsize=(20,15))\n",
        "sns.heatmap(df.corr(),annot=True)\n",
        "plt.show()"
      ]
    },
    {
      "cell_type": "markdown",
      "id": "096366ac",
      "metadata": {
        "id": "096366ac"
      },
      "source": [
        "## Train Test Split"
      ]
    },
    {
      "cell_type": "code",
      "execution_count": 34,
      "id": "7b3e0d5a",
      "metadata": {
        "id": "7b3e0d5a"
      },
      "outputs": [],
      "source": [
        "x=df.drop('Item_Outlet_Sales',axis=1)\n",
        "y=df.Item_Outlet_Sales"
      ]
    },
    {
      "cell_type": "code",
      "execution_count": 35,
      "id": "9cebdf61",
      "metadata": {
        "id": "9cebdf61"
      },
      "outputs": [],
      "source": [
        "x_train,x_test,y_train,y_test=train_test_split(x,y,test_size=0.2,random_state=10)"
      ]
    },
    {
      "cell_type": "markdown",
      "id": "58344f60",
      "metadata": {
        "id": "58344f60"
      },
      "source": [
        "## 1. Linear Regression"
      ]
    },
    {
      "cell_type": "code",
      "execution_count": 36,
      "id": "d1d16936",
      "metadata": {
        "colab": {
          "base_uri": "https://localhost:8080/"
        },
        "id": "d1d16936",
        "outputId": "7ce5e78f-72f7-487a-ed38-c5cccc5f3959"
      },
      "outputs": [
        {
          "output_type": "execute_result",
          "data": {
            "text/plain": [
              "LinearRegression()"
            ]
          },
          "metadata": {},
          "execution_count": 36
        }
      ],
      "source": [
        "lin=LinearRegression()\n",
        "lin.fit(x_train,y_train)"
      ]
    },
    {
      "cell_type": "code",
      "execution_count": 37,
      "id": "7f9ddddc",
      "metadata": {
        "colab": {
          "base_uri": "https://localhost:8080/"
        },
        "id": "7f9ddddc",
        "outputId": "3b2fc0d9-d59d-407b-f70f-ec492f97ac00"
      },
      "outputs": [
        {
          "output_type": "stream",
          "name": "stdout",
          "text": [
            "MSE: 1429686.9083702522\n",
            "MAE: 899.1040214045253\n",
            "RMSE: 1195.6951569569278\n",
            "R squared value: 0.5065726676927501\n"
          ]
        }
      ],
      "source": [
        "# Training data evaluation\n",
        "\n",
        "y_pred=lin.predict(x_train)\n",
        "\n",
        "mse=mean_squared_error(y_train,y_pred)\n",
        "print('MSE:',mse)\n",
        "mae=mean_absolute_error(y_train,y_pred)\n",
        "print('MAE:',mae)\n",
        "rmse=np.sqrt(mse)\n",
        "print('RMSE:',rmse)\n",
        "r2score=r2_score(y_train,y_pred)\n",
        "print('R squared value:',r2score)"
      ]
    },
    {
      "cell_type": "code",
      "execution_count": 38,
      "id": "176ac10d",
      "metadata": {
        "colab": {
          "base_uri": "https://localhost:8080/"
        },
        "id": "176ac10d",
        "outputId": "1d66d1f4-c547-4f4f-aaa2-3f9f50bdc5a6"
      },
      "outputs": [
        {
          "output_type": "stream",
          "name": "stdout",
          "text": [
            "MSE: 1411183.582975189\n",
            "MAE: 888.6472741502695\n",
            "RMSE: 1187.932482498559\n",
            "R squared value: 0.5245997931746152\n"
          ]
        }
      ],
      "source": [
        "# Testing data evaluation\n",
        "\n",
        "y_pred_test=lin.predict(x_test)\n",
        "\n",
        "mse=mean_squared_error(y_test,y_pred_test)\n",
        "print('MSE:',mse)\n",
        "mae=mean_absolute_error(y_test,y_pred_test)\n",
        "print('MAE:',mae)\n",
        "rmse=np.sqrt(mse)\n",
        "print('RMSE:',rmse)\n",
        "r2score=r2_score(y_test,y_pred_test)\n",
        "print('R squared value:',r2score)"
      ]
    },
    {
      "cell_type": "markdown",
      "id": "a9265ee3",
      "metadata": {
        "id": "a9265ee3"
      },
      "source": [
        "## 2. KNN"
      ]
    },
    {
      "cell_type": "code",
      "execution_count": 39,
      "id": "f2a5b511",
      "metadata": {
        "id": "f2a5b511"
      },
      "outputs": [],
      "source": [
        "knn=KNeighborsRegressor()"
      ]
    },
    {
      "cell_type": "markdown",
      "id": "fbba2960",
      "metadata": {
        "id": "fbba2960"
      },
      "source": [
        "### Scaling"
      ]
    },
    {
      "cell_type": "code",
      "execution_count": 40,
      "id": "eee1ec83",
      "metadata": {
        "id": "eee1ec83"
      },
      "outputs": [],
      "source": [
        "std=StandardScaler()\n",
        "x_train_scale=std.fit_transform(x_train)\n",
        "x_test_scale=std.transform(x_test)"
      ]
    },
    {
      "cell_type": "code",
      "execution_count": 41,
      "id": "d94cb9cd",
      "metadata": {
        "colab": {
          "base_uri": "https://localhost:8080/"
        },
        "id": "d94cb9cd",
        "outputId": "2c589928-f830-472f-e8cc-52612a9b5257"
      },
      "outputs": [
        {
          "output_type": "execute_result",
          "data": {
            "text/plain": [
              "KNeighborsRegressor()"
            ]
          },
          "metadata": {},
          "execution_count": 41
        }
      ],
      "source": [
        "knn.fit(x_train_scale,y_train)"
      ]
    },
    {
      "cell_type": "code",
      "execution_count": 42,
      "id": "e3e272fb",
      "metadata": {
        "colab": {
          "base_uri": "https://localhost:8080/"
        },
        "id": "e3e272fb",
        "outputId": "276e992d-3521-4446-cc72-cf82357be787"
      },
      "outputs": [
        {
          "output_type": "stream",
          "name": "stdout",
          "text": [
            "MSE: 935824.0616136154\n",
            "MAE: 684.0850476210032\n",
            "RMSE: 967.3799985598293\n",
            "R squared value: 0.6770193756916201\n"
          ]
        }
      ],
      "source": [
        "# Training data evaluation\n",
        "\n",
        "y_pred=knn.predict(x_train_scale)\n",
        "\n",
        "mse=mean_squared_error(y_train,y_pred)\n",
        "print('MSE:',mse)\n",
        "mae=mean_absolute_error(y_train,y_pred)\n",
        "print('MAE:',mae)\n",
        "rmse=np.sqrt(mse)\n",
        "print('RMSE:',rmse)\n",
        "r2score=r2_score(y_train,y_pred)\n",
        "print('R squared value:',r2score)"
      ]
    },
    {
      "cell_type": "code",
      "execution_count": 43,
      "id": "d85e0e48",
      "metadata": {
        "colab": {
          "base_uri": "https://localhost:8080/"
        },
        "id": "d85e0e48",
        "outputId": "efcaa84f-ed5a-4b28-ce8e-97f14f100e5e"
      },
      "outputs": [
        {
          "output_type": "stream",
          "name": "stdout",
          "text": [
            "MSE: 1438299.74645064\n",
            "MAE: 848.7873786041056\n",
            "RMSE: 1199.2913517784743\n",
            "R squared value: 0.5154648869299137\n"
          ]
        }
      ],
      "source": [
        "# Testing data evaluation\n",
        "\n",
        "y_pred_test=knn.predict(x_test_scale)\n",
        "\n",
        "mse=mean_squared_error(y_test,y_pred_test)\n",
        "print('MSE:',mse)\n",
        "mae=mean_absolute_error(y_test,y_pred_test)\n",
        "print('MAE:',mae)\n",
        "rmse=np.sqrt(mse)\n",
        "print('RMSE:',rmse)\n",
        "r2score=r2_score(y_test,y_pred_test)\n",
        "print('R squared value:',r2score)"
      ]
    },
    {
      "cell_type": "markdown",
      "id": "35650121",
      "metadata": {
        "id": "35650121"
      },
      "source": [
        "## 3. Decision Tree"
      ]
    },
    {
      "cell_type": "code",
      "execution_count": 44,
      "id": "68c7b10b",
      "metadata": {
        "colab": {
          "base_uri": "https://localhost:8080/"
        },
        "id": "68c7b10b",
        "outputId": "abdc02ee-dff0-4b17-c867-6065041a2931"
      },
      "outputs": [
        {
          "output_type": "execute_result",
          "data": {
            "text/plain": [
              "DecisionTreeRegressor(random_state=30)"
            ]
          },
          "metadata": {},
          "execution_count": 44
        }
      ],
      "source": [
        "dt=DecisionTreeRegressor(random_state=30)\n",
        "dt.fit(x_train,y_train)"
      ]
    },
    {
      "cell_type": "code",
      "execution_count": 45,
      "id": "0755932d",
      "metadata": {
        "colab": {
          "base_uri": "https://localhost:8080/"
        },
        "id": "0755932d",
        "outputId": "c7255856-ab17-4974-b871-b317e5d8960e"
      },
      "outputs": [
        {
          "output_type": "stream",
          "name": "stdout",
          "text": [
            "MSE: 0.0\n",
            "MAE: 0.0\n",
            "RMSE: 0.0\n",
            "R squared value: 1.0\n"
          ]
        }
      ],
      "source": [
        "# Training data evaluation\n",
        "\n",
        "y_pred=dt.predict(x_train)\n",
        "\n",
        "mse=mean_squared_error(y_train,y_pred)\n",
        "print('MSE:',mse)\n",
        "mae=mean_absolute_error(y_train,y_pred)\n",
        "print('MAE:',mae)\n",
        "rmse=np.sqrt(mse)\n",
        "print('RMSE:',rmse)\n",
        "r2score=r2_score(y_train,y_pred)\n",
        "print('R squared value:',r2score)"
      ]
    },
    {
      "cell_type": "code",
      "execution_count": 46,
      "id": "89856fe1",
      "metadata": {
        "colab": {
          "base_uri": "https://localhost:8080/"
        },
        "id": "89856fe1",
        "outputId": "7ae63140-77af-4b44-eeda-8ed16506acae"
      },
      "outputs": [
        {
          "output_type": "stream",
          "name": "stdout",
          "text": [
            "MSE: 2528628.207607083\n",
            "MAE: 1126.9873592961878\n",
            "RMSE: 1590.1660943458337\n",
            "R squared value: 0.14815450846833977\n"
          ]
        }
      ],
      "source": [
        "# Testing data evaluation\n",
        "\n",
        "y_pred_test=dt.predict(x_test)\n",
        "\n",
        "mse=mean_squared_error(y_test,y_pred_test)\n",
        "print('MSE:',mse)\n",
        "mae=mean_absolute_error(y_test,y_pred_test)\n",
        "print('MAE:',mae)\n",
        "rmse=np.sqrt(mse)\n",
        "print('RMSE:',rmse)\n",
        "r2score=r2_score(y_test,y_pred_test)\n",
        "print('R squared value:',r2score)"
      ]
    },
    {
      "cell_type": "markdown",
      "id": "52d1cbd9",
      "metadata": {
        "id": "52d1cbd9"
      },
      "source": [
        "## Hyperparameter Tunning"
      ]
    },
    {
      "cell_type": "code",
      "source": [
        "import warnings\n",
        "warnings.filterwarnings('ignore')"
      ],
      "metadata": {
        "id": "atXWEXi92fpe"
      },
      "id": "atXWEXi92fpe",
      "execution_count": 47,
      "outputs": []
    },
    {
      "cell_type": "code",
      "execution_count": 49,
      "id": "56bb804e",
      "metadata": {
        "colab": {
          "base_uri": "https://localhost:8080/"
        },
        "id": "56bb804e",
        "outputId": "214bb219-8294-49bf-a117-869b35702554"
      },
      "outputs": [
        {
          "output_type": "execute_result",
          "data": {
            "text/plain": [
              "DecisionTreeRegressor(criterion='mse', max_depth=5, min_samples_leaf=14,\n",
              "                      random_state=30)"
            ]
          },
          "metadata": {},
          "execution_count": 49
        }
      ],
      "source": [
        "dt=DecisionTreeRegressor(random_state=30)\n",
        "hyp={'criterion':['mse','mae'],'max_depth':np.arange(2,8),'min_samples_split':np.arange(2,20),\n",
        "     'min_samples_leaf':np.arange(2,15)}\n",
        "gscv=GridSearchCV(dt,hyp,cv=5)\n",
        "gscv.fit(x_train,y_train)\n",
        "gscv.best_estimator_"
      ]
    },
    {
      "cell_type": "code",
      "execution_count": 50,
      "id": "c980cacd",
      "metadata": {
        "colab": {
          "base_uri": "https://localhost:8080/"
        },
        "id": "c980cacd",
        "outputId": "b4f8c360-ad64-4554-e222-d5366fe54e92"
      },
      "outputs": [
        {
          "output_type": "execute_result",
          "data": {
            "text/plain": [
              "DecisionTreeRegressor(criterion='mse', max_depth=5, min_samples_leaf=14,\n",
              "                      random_state=30)"
            ]
          },
          "metadata": {},
          "execution_count": 50
        }
      ],
      "source": [
        "dct=DecisionTreeRegressor(criterion='mse', max_depth=5, min_samples_leaf=14,\n",
        "                      random_state=30)\n",
        "dct.fit(x_train,y_train)"
      ]
    },
    {
      "cell_type": "code",
      "execution_count": 51,
      "id": "6417f0cf",
      "metadata": {
        "colab": {
          "base_uri": "https://localhost:8080/"
        },
        "id": "6417f0cf",
        "outputId": "3c1b9349-d8e5-4dbb-f7ba-c33df6f22bdf"
      },
      "outputs": [
        {
          "output_type": "stream",
          "name": "stdout",
          "text": [
            "MSE: 1152490.2881315656\n",
            "MAE: 750.9458545913519\n",
            "RMSE: 1073.5410044015857\n",
            "R squared value: 0.6022414382803447\n"
          ]
        }
      ],
      "source": [
        "# Training data evaluation\n",
        "\n",
        "y_pred=dct.predict(x_train)\n",
        "\n",
        "mse=mean_squared_error(y_train,y_pred)\n",
        "print('MSE:',mse)\n",
        "mae=mean_absolute_error(y_train,y_pred)\n",
        "print('MAE:',mae)\n",
        "rmse=np.sqrt(mse)\n",
        "print('RMSE:',rmse)\n",
        "r2score=r2_score(y_train,y_pred)\n",
        "print('R squared value:',r2score)"
      ]
    },
    {
      "cell_type": "code",
      "execution_count": 52,
      "id": "3b8f47bf",
      "metadata": {
        "colab": {
          "base_uri": "https://localhost:8080/"
        },
        "id": "3b8f47bf",
        "outputId": "7d4a176c-2df2-4d84-fa22-e7ecde8618e5"
      },
      "outputs": [
        {
          "output_type": "stream",
          "name": "stdout",
          "text": [
            "MSE: 1213999.28245518\n",
            "MAE: 774.9168425279382\n",
            "RMSE: 1101.8163560481303\n",
            "R squared value: 0.5910273355446141\n"
          ]
        }
      ],
      "source": [
        "# Testing data evaluation\n",
        "\n",
        "y_pred_test=dct.predict(x_test)\n",
        "\n",
        "mse=mean_squared_error(y_test,y_pred_test)\n",
        "print('MSE:',mse)\n",
        "mae=mean_absolute_error(y_test,y_pred_test)\n",
        "print('MAE:',mae)\n",
        "rmse=np.sqrt(mse)\n",
        "print('RMSE:',rmse)\n",
        "r2score=r2_score(y_test,y_pred_test)\n",
        "print('R squared value:',r2score)"
      ]
    },
    {
      "cell_type": "markdown",
      "id": "3840a96a",
      "metadata": {
        "id": "3840a96a"
      },
      "source": [
        "## Random Forest "
      ]
    },
    {
      "cell_type": "code",
      "execution_count": 53,
      "id": "4a9cb0fe",
      "metadata": {
        "colab": {
          "base_uri": "https://localhost:8080/"
        },
        "id": "4a9cb0fe",
        "outputId": "7e8a1c3d-140b-4a0f-92a0-59d070df48b6"
      },
      "outputs": [
        {
          "output_type": "execute_result",
          "data": {
            "text/plain": [
              "RandomForestRegressor(random_state=30)"
            ]
          },
          "metadata": {},
          "execution_count": 53
        }
      ],
      "source": [
        "rf=RandomForestRegressor(random_state=30)\n",
        "rf.fit(x_train,y_train)"
      ]
    },
    {
      "cell_type": "code",
      "execution_count": 54,
      "id": "a679dccd",
      "metadata": {
        "colab": {
          "base_uri": "https://localhost:8080/"
        },
        "id": "a679dccd",
        "outputId": "93d4c4d2-7504-4cd3-b523-4c0d217c7a93"
      },
      "outputs": [
        {
          "output_type": "stream",
          "name": "stdout",
          "text": [
            "MSE: 181464.92420889105\n",
            "MAE: 294.95439105866825\n",
            "RMSE: 425.9870000468219\n",
            "R squared value: 0.9373710754882691\n"
          ]
        }
      ],
      "source": [
        "# Training data evaluation\n",
        "\n",
        "y_pred=rf.predict(x_train)\n",
        "\n",
        "mse=mean_squared_error(y_train,y_pred)\n",
        "print('MSE:',mse)\n",
        "mae=mean_absolute_error(y_train,y_pred)\n",
        "print('MAE:',mae)\n",
        "rmse=np.sqrt(mse)\n",
        "print('RMSE:',rmse)\n",
        "r2score=r2_score(y_train,y_pred)\n",
        "print('R squared value:',r2score)"
      ]
    },
    {
      "cell_type": "code",
      "execution_count": 55,
      "id": "607425eb",
      "metadata": {
        "colab": {
          "base_uri": "https://localhost:8080/"
        },
        "id": "607425eb",
        "outputId": "2ff0ce99-f138-4f02-9a90-8738710b7991"
      },
      "outputs": [
        {
          "output_type": "stream",
          "name": "stdout",
          "text": [
            "MSE: 1281870.8995190277\n",
            "MAE: 797.4395939589442\n",
            "RMSE: 1132.1973765731077\n",
            "R squared value: 0.5681627124162044\n"
          ]
        }
      ],
      "source": [
        "# Testing data evaluation\n",
        "\n",
        "y_pred_test=rf.predict(x_test)\n",
        "\n",
        "mse=mean_squared_error(y_test,y_pred_test)\n",
        "print('MSE:',mse)\n",
        "mae=mean_absolute_error(y_test,y_pred_test)\n",
        "print('MAE:',mae)\n",
        "rmse=np.sqrt(mse)\n",
        "print('RMSE:',rmse)\n",
        "r2score=r2_score(y_test,y_pred_test)\n",
        "print('R squared value:',r2score)"
      ]
    }
  ],
  "metadata": {
    "kernelspec": {
      "display_name": "Python 3 (ipykernel)",
      "language": "python",
      "name": "python3"
    },
    "language_info": {
      "codemirror_mode": {
        "name": "ipython",
        "version": 3
      },
      "file_extension": ".py",
      "mimetype": "text/x-python",
      "name": "python",
      "nbconvert_exporter": "python",
      "pygments_lexer": "ipython3",
      "version": "3.9.7"
    },
    "colab": {
      "provenance": [],
      "include_colab_link": true
    }
  },
  "nbformat": 4,
  "nbformat_minor": 5
}